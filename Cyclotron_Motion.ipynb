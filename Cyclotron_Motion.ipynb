{
 "cells": [
  {
   "cell_type": "code",
   "execution_count": 31,
   "metadata": {},
   "outputs": [
    {
     "name": "stdout",
     "output_type": "stream",
     "text": [
      "Hello\n",
      "r_c : 0.04637427447770301\n",
      "v : 0.26269415300813637\n",
      "linear distance in 20us : 1576.1649180488182\n"
     ]
    }
   ],
   "source": [
    "# Import some standard python analysis and plotting packages\n",
    "import numpy as np\n",
    "import math as m\n",
    "import scipy.constants\n",
    "import matplotlib.pyplot as plt\n",
    "import matplotlib\n",
    "matplotlib.rcParams['figure.dpi']=300 # highres display\n",
    "\n",
    "\n",
    "def getCyclotronRadius(B,T,theta):\n",
    "    \"\"\"Function to return the cyclotron radius for an electron with kinetic energy T and \n",
    "    angle theta with respect to in a magentic field B\n",
    "    Args:\n",
    "        B: The magentic field (Tesla)\n",
    "        T: The kinetic energy (keV)\n",
    "        theta: angle with respect to magnetic field direction (radians)\n",
    "        \n",
    "    Returns:\n",
    "        The cylotron radius, r_c, in cm\n",
    "    \"\"\"\n",
    "    \n",
    "    m_e = 511.0; # keV/c^2\n",
    "    total_E = T + m_e\n",
    "    \n",
    "    p = m.sqrt(total_E**2 - m_e**2)\n",
    "\n",
    "    pT = p*m.sin(theta)\n",
    "    \n",
    "    r_c = pT*(1.0E05/(3.0E08))/(B)\n",
    "    \n",
    "    return r_c\n",
    "\n",
    "\n",
    "def getElectronSpeed(T):\n",
    "    \"\"\"Function to return the speed of an electron with kinetic energy T\n",
    "    Args:\n",
    "        T: The kinetic energy (keV)\n",
    "        \n",
    "    Returns:\n",
    "        The speed, in units of the speed of light\n",
    "    \"\"\"\n",
    "    \n",
    "    m_e = 511.0; # keV/c^2\n",
    "    total_E = T + m_e\n",
    "    \n",
    "    p = m.sqrt(total_E**2 - m_e**2)\n",
    "\n",
    "    beta = p/total_E;\n",
    "    \n",
    "    return beta\n",
    "\n",
    "\n",
    "print(\"r_c :\",getCyclotronRadius(1.0,18.6,m.pi/2.)) \n",
    "print(\"v :\",getElectronSpeed(18.6))\n",
    "print(\"linear distance in 20us :\",getElectronSpeed(18.6)*3.0E08*20.0E-06)\n"
   ]
  },
  {
   "cell_type": "code",
   "execution_count": null,
   "metadata": {},
   "outputs": [],
   "source": []
  },
  {
   "cell_type": "code",
   "execution_count": null,
   "metadata": {},
   "outputs": [],
   "source": []
  }
 ],
 "metadata": {
  "kernelspec": {
   "display_name": "Python 3",
   "language": "python",
   "name": "python3"
  },
  "language_info": {
   "codemirror_mode": {
    "name": "ipython",
    "version": 3
   },
   "file_extension": ".py",
   "mimetype": "text/x-python",
   "name": "python",
   "nbconvert_exporter": "python",
   "pygments_lexer": "ipython3",
   "version": "3.8.3"
  }
 },
 "nbformat": 4,
 "nbformat_minor": 4
}
